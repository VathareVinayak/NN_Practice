{
  "nbformat": 4,
  "nbformat_minor": 0,
  "metadata": {
    "colab": {
      "provenance": [],
      "authorship_tag": "ABX9TyM6u2lQD/9kgnYnpNt8uurr",
      "include_colab_link": true
    },
    "kernelspec": {
      "name": "python3",
      "display_name": "Python 3"
    },
    "language_info": {
      "name": "python"
    }
  },
  "cells": [
    {
      "cell_type": "markdown",
      "metadata": {
        "id": "view-in-github",
        "colab_type": "text"
      },
      "source": [
        "<a href=\"https://colab.research.google.com/github/VathareVinayak/NN_Practice/blob/main/Practice_NN.ipynb\" target=\"_parent\"><img src=\"https://colab.research.google.com/assets/colab-badge.svg\" alt=\"Open In Colab\"/></a>"
      ]
    },
    {
      "cell_type": "code",
      "execution_count": 19,
      "metadata": {
        "id": "9u40_YZQ6WMK"
      },
      "outputs": [],
      "source": [
        "import numpy as np\n"
      ]
    },
    {
      "cell_type": "code",
      "source": [
        "def sigmoid(x):\n",
        "  return 1/(1+np.exp(-x))\n"
      ],
      "metadata": {
        "id": "BKyfPNTg6hbU"
      },
      "execution_count": 20,
      "outputs": []
    },
    {
      "cell_type": "code",
      "source": [
        "X = np.array([0.3,0.5])\n",
        "W1 = np.array([[0.2, 0.4],\n",
        "               [0.1, 0.3]])\n",
        "B1 = np.array([0.1, 0.2])\n"
      ],
      "metadata": {
        "id": "hEwL_SLk6hEs"
      },
      "execution_count": 21,
      "outputs": []
    },
    {
      "cell_type": "code",
      "source": [
        "W2 = np.array([0.6, 0.9])\n",
        "B2 = 0.05\n"
      ],
      "metadata": {
        "id": "_B1ckaDD6hJL"
      },
      "execution_count": 22,
      "outputs": []
    },
    {
      "cell_type": "code",
      "source": [
        "Z1 = np.dot(X, W1) + B1\n"
      ],
      "metadata": {
        "id": "I8bq-Vxy6hMe"
      },
      "execution_count": 23,
      "outputs": []
    },
    {
      "cell_type": "code",
      "source": [
        "A1 = sigmoid(Z1)\n"
      ],
      "metadata": {
        "id": "on71Pnk26hPE"
      },
      "execution_count": 24,
      "outputs": []
    },
    {
      "cell_type": "code",
      "source": [
        "A1"
      ],
      "metadata": {
        "colab": {
          "base_uri": "https://localhost:8080/"
        },
        "id": "5rJM4Sxc6hRk",
        "outputId": "7cf71574-fffe-4d25-939d-06148975541b"
      },
      "execution_count": 25,
      "outputs": [
        {
          "output_type": "execute_result",
          "data": {
            "text/plain": [
              "array([0.55230791, 0.61538376])"
            ]
          },
          "metadata": {},
          "execution_count": 25
        }
      ]
    },
    {
      "cell_type": "code",
      "source": [
        "Z2 = np.dot(A1, W2) + B2\n",
        "A2 = sigmoid(Z2)\n",
        "A2"
      ],
      "metadata": {
        "colab": {
          "base_uri": "https://localhost:8080/"
        },
        "id": "x5oW5HwU7Wip",
        "outputId": "6af3612f-8272-461b-9d03-ba373fb92b93"
      },
      "execution_count": 26,
      "outputs": [
        {
          "output_type": "execute_result",
          "data": {
            "text/plain": [
              "np.float64(0.7181351590487226)"
            ]
          },
          "metadata": {},
          "execution_count": 26
        }
      ]
    }
  ]
}